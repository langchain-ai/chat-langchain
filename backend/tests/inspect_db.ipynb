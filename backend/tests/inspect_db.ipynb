{
 "cells": [
  {
   "cell_type": "code",
   "execution_count": 3,
   "id": "32677134",
   "metadata": {},
   "outputs": [
    {
     "name": "stdout",
     "output_type": "stream",
     "text": [
      "True\n"
     ]
    }
   ],
   "source": [
    "import weaviate\n",
    "from weaviate.classes.init import Auth\n",
    "\n",
    "# For API key authentication\n",
    "client = weaviate.connect_to_weaviate_cloud(\n",
    "    cluster_url=\"https://32jan5tktwkamfgzrrtkja.c0.us-east1.gcp.weaviate.cloud\",\n",
    "    auth_credentials=Auth.api_key(\"o9WXSnUurvRLAkypkLSNAXy2vy0btzKeUdLh\")\n",
    ")\n",
    "print(client.is_ready())"
   ]
  },
  {
   "cell_type": "code",
   "execution_count": 7,
   "id": "e5ce5b5a",
   "metadata": {},
   "outputs": [],
   "source": [
    "collections = client.collections.list_all()"
   ]
  },
  {
   "cell_type": "code",
   "execution_count": 17,
   "id": "f750dc98",
   "metadata": {},
   "outputs": [
    {
     "name": "stdout",
     "output_type": "stream",
     "text": [
      "Name:  LangChain_Combined_Docs_OpenAI_text_embedding_3_small\n",
      "Description:  None\n",
      "Generative config:  None\n",
      "Properties:\n",
      "   source\n",
      "   content_type\n",
      "   text\n",
      "   title\n",
      "   description\n",
      "   language\n",
      "   changefreq\n",
      "   loc\n",
      "   priority\n",
      "   lastmod\n",
      "References:  []\n",
      "Reranker config:  None\n",
      "Vector config:  None\n",
      "Vectorizer:  Vectorizers.NONE\n",
      "Vectorizer config:  None\n",
      "\n",
      "\n"
     ]
    }
   ],
   "source": [
    "for collection_name, collection in collections.items():\n",
    "    print(\"Name: \", collection_name)\n",
    "    print(\"Description: \", collection.description)\n",
    "    print(\"Generative config: \", collection.generative_config)\n",
    "    print(\"Properties:\")\n",
    "    for property in collection.properties:\n",
    "        print(\"  \", property.name)\n",
    "    print(\"References: \", collection.references)\n",
    "    print(\"Reranker config: \", collection.reranker_config)\n",
    "    print(\"Vector config: \", collection.vector_config)\n",
    "    print(\"Vectorizer: \", collection.vectorizer)\n",
    "    print(\"Vectorizer config: \", collection.vectorizer_config)\n",
    "    print(\"\\n\")"
   ]
  },
  {
   "cell_type": "code",
   "execution_count": 18,
   "id": "29d8c4f7",
   "metadata": {},
   "outputs": [],
   "source": [
    "docs = client.collections.get(\"LangChain_Combined_Docs_OpenAI_text_embedding_3_small\")"
   ]
  },
  {
   "cell_type": "code",
   "execution_count": 25,
   "id": "93eda124",
   "metadata": {},
   "outputs": [
    {
     "name": "stdout",
     "output_type": "stream",
     "text": [
      "10\n"
     ]
    }
   ],
   "source": [
    "all_objects = docs.query.fetch_objects()\n",
    "print(len(all_objects.objects))"
   ]
  },
  {
   "cell_type": "markdown",
   "id": "4b4013bd",
   "metadata": {},
   "source": [
    "## Test New Docs Site"
   ]
  },
  {
   "cell_type": "code",
   "execution_count": null,
   "id": "2495fa8d",
   "metadata": {},
   "outputs": [],
   "source": []
  }
 ],
 "metadata": {
  "kernelspec": {
   "display_name": ".venv",
   "language": "python",
   "name": "python3"
  },
  "language_info": {
   "codemirror_mode": {
    "name": "ipython",
    "version": 3
   },
   "file_extension": ".py",
   "mimetype": "text/x-python",
   "name": "python",
   "nbconvert_exporter": "python",
   "pygments_lexer": "ipython3",
   "version": "3.11.11"
  }
 },
 "nbformat": 4,
 "nbformat_minor": 5
}
